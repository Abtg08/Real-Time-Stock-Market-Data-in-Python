{
  "nbformat": 4,
  "nbformat_minor": 0,
  "metadata": {
    "colab": {
      "provenance": [],
      "authorship_tag": "ABX9TyOoxlUUK0HT2YFLXMZm2QbR",
      "include_colab_link": true
    },
    "kernelspec": {
      "name": "python3",
      "display_name": "Python 3"
    },
    "language_info": {
      "name": "python"
    }
  },
  "cells": [
    {
      "cell_type": "markdown",
      "metadata": {
        "id": "view-in-github",
        "colab_type": "text"
      },
      "source": [
        "<a href=\"https://colab.research.google.com/github/Abtg08/Real-Time-Stock-Market-Data-in-Python/blob/main/Real_Time_Stock_Market_Data_in_Python.ipynb\" target=\"_parent\"><img src=\"https://colab.research.google.com/assets/colab-badge.svg\" alt=\"Open In Colab\"/></a>"
      ]
    },
    {
      "cell_type": "code",
      "execution_count": 5,
      "metadata": {
        "id": "V32WYcvYilOO"
      },
      "outputs": [],
      "source": [
        "url1= 'https://www.google.com/finance/quote/SBIN:NSE'"
      ]
    },
    {
      "cell_type": "code",
      "source": [
        "import requests\n",
        "from bs4 import BeautifulSoup\n",
        "import time\n"
      ],
      "metadata": {
        "id": "GHDyyOCWjQMm"
      },
      "execution_count": 4,
      "outputs": []
    },
    {
      "cell_type": "code",
      "source": [
        "# ticker= 'SBIN'\n",
        "# url= f'https://www.google.com/finance/quote/{ticker}:NSE'\n",
        "\n",
        "# for i in range (3):\n",
        "#   response= requests.get(url)\n",
        "#   soup= BeautifulSoup(response.text, 'html.parser')\n",
        "#   class1 = \"YMlKec fxKbKc\"\n",
        "#   price = float(soup.find(class_=class1).text.strip()[1:].replace(',',''))\n",
        "#   print(ticker,':', price)\n",
        "#   time.sleep(1)\n",
        "\n",
        "ticker= ['SBIN', 'INFY', 'RELIANCE']\n",
        "\n",
        "for i in range (3):\n",
        "  for t in ticker:\n",
        "    url= f'https://www.google.com/finance/quote/{t}:NSE'\n",
        "    response= requests.get(url)\n",
        "    soup= BeautifulSoup(response.text, 'html.parser')\n",
        "    class1 = \"YMlKec fxKbKc\"\n",
        "    class2= \"YMlKec fxKbKc\"\n",
        "    class3= \"YMlKec fxKbKc\"\n",
        "    price1 = float(soup.find(class_=class1).text.strip()[1:].replace(',',''))\n",
        "    price2 = float(soup.find(class_=class2).text.strip()[1:].replace(',',''))\n",
        "    price3 = float(soup.find(class_=class3).text.strip()[1:].replace(',',''))\n",
        "    print(t,':', price1)\n",
        "  time.sleep(1)"
      ],
      "metadata": {
        "colab": {
          "base_uri": "https://localhost:8080/"
        },
        "id": "vZY6hdDkjZHB",
        "outputId": "5ef005ee-0e9b-41a4-aaff-88a1e864b894"
      },
      "execution_count": 28,
      "outputs": [
        {
          "output_type": "stream",
          "name": "stdout",
          "text": [
            "SBIN : 881.55\n",
            "INFY : 1726.5\n",
            "RELIANCE : 3148.3\n",
            "SBIN : 881.55\n",
            "INFY : 1726.5\n",
            "RELIANCE : 3148.3\n",
            "SBIN : 881.55\n",
            "INFY : 1726.5\n",
            "RELIANCE : 3148.3\n"
          ]
        }
      ]
    },
    {
      "cell_type": "code",
      "source": [],
      "metadata": {
        "id": "o_GbcyH1pMEg"
      },
      "execution_count": 28,
      "outputs": []
    },
    {
      "cell_type": "code",
      "source": [],
      "metadata": {
        "id": "UbMnMyxJq4xN"
      },
      "execution_count": null,
      "outputs": []
    }
  ]
}